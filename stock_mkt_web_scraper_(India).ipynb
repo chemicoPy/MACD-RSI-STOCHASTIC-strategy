{
  "nbformat": 4,
  "nbformat_minor": 0,
  "metadata": {
    "colab": {
      "name": "stock_mkt_web_scraper_(India)",
      "provenance": [],
      "collapsed_sections": [],
      "authorship_tag": "ABX9TyOpuPeZazW70nnhNPdoHTX/",
      "include_colab_link": true
    },
    "kernelspec": {
      "name": "python3",
      "display_name": "Python 3"
    },
    "language_info": {
      "name": "python"
    }
  },
  "cells": [
    {
      "cell_type": "markdown",
      "metadata": {
        "id": "view-in-github",
        "colab_type": "text"
      },
      "source": [
        "<a href=\"https://colab.research.google.com/github/chemicoPy/MACD-RSI-STOCHASTIC-strategy/blob/India/stock_mkt_web_scraper_(India).ipynb\" target=\"_parent\"><img src=\"https://colab.research.google.com/assets/colab-badge.svg\" alt=\"Open In Colab\"/></a>"
      ]
    },
    {
      "cell_type": "code",
      "metadata": {
        "id": "GjB9iUp0Pi2o"
      },
      "source": [
        "from google.colab import drive"
      ],
      "execution_count": 1,
      "outputs": []
    },
    {
      "cell_type": "code",
      "metadata": {
        "colab": {
          "base_uri": "https://localhost:8080/"
        },
        "id": "fnlZpcO0PoyD",
        "outputId": "5fc442dd-9e5d-43dc-c244-fb0be55f9b58"
      },
      "source": [
        "drive.mount(\"/content/gdrive\")"
      ],
      "execution_count": 2,
      "outputs": [
        {
          "output_type": "stream",
          "name": "stdout",
          "text": [
            "Mounted at /content/gdrive\n"
          ]
        }
      ]
    },
    {
      "cell_type": "code",
      "metadata": {
        "id": "pxA2yR8-Po4D"
      },
      "source": [
        "!pip install nsepy\n",
        "!pip install investpy\n",
        "!pip install requests\n",
        "!pip install tabulate"
      ],
      "execution_count": null,
      "outputs": []
    },
    {
      "cell_type": "code",
      "metadata": {
        "id": "Vo65HLOmPo-p"
      },
      "source": [
        "import numpy as np\n",
        "from numpy import *\n",
        "import pandas as pd\n",
        "from pandas import DataFrame, Series\n",
        "import matplotlib.pyplot as plt\n",
        "import os\n",
        "import io\n",
        "import time\n",
        "import warnings\n",
        "warnings.filterwarnings('ignore')\n",
        "from collections import deque\n",
        "from datetime import datetime, timedelta\n",
        "from datetime import date\n",
        "import csv\n",
        "import investpy\n",
        "from nsepy import get_history\n",
        "import requests"
      ],
      "execution_count": 9,
      "outputs": []
    },
    {
      "cell_type": "code",
      "metadata": {
        "id": "Oy9te1QHPpD0"
      },
      "source": [
        "\"\"\" To see India stock list: Just uncomment below line \"\"\"\n",
        "#india_stocks = investpy.stocks.get_stocks_list(country=\"india\")\n",
        "\n",
        "\n",
        "tickers_list = [\"ADTB\", \"HUBT\", \"TIIN\", \"TMIN\", \"ABB\", \"BLTE\", \"LIND\", \"ADEL\", \"ARTI\", \"APLH\",\n",
        "                \"COAL\", \"IIFL\", \"GHCH\", \"EIDP\", \"CYIE\", \"FURE\", \"DABU\", \"BOB\", \"HVEL\", \"GSFC\",\n",
        "                \"BAJA\", \"EMAM\", \"CORF\", \"FED\", \"ATOA\", \"63MO\", \"ENGI\", \"CNTP\", \"FINX\",\"BFUT\"]\n",
        "\n"
      ],
      "execution_count": 10,
      "outputs": []
    },
    {
      "cell_type": "code",
      "metadata": {
        "id": "rH9yQYSdQeZ0"
      },
      "source": [
        "allUrlData = {}\n",
        "for ticker in tickers_list:\n",
        "    allUrlData[ticker] = investpy.get_stock_recent_data(ticker,\n",
        "                                        country='India')"
      ],
      "execution_count": null,
      "outputs": []
    },
    {
      "cell_type": "code",
      "metadata": {
        "id": "csXjiiIlQMic"
      },
      "source": [
        "for  k,v in allUrlData.items():\n",
        "    allUrlData[k] = v.tail(14)\n",
        "    \n",
        "    \"\"\" MACD Calculation \"\"\"\n",
        "    \n",
        "    exp1 = allUrlData[k][\"Close\"].ewm(span=12, adjust=False).mean()\n",
        "    exp2 = allUrlData[k][\"Close\"].ewm(span=26, adjust=False).mean()\n",
        "    allUrlData[k][\"macd\"] = exp1 - exp2\n",
        "\n",
        "    \"\"\" MACD Buy & Sell signal: \"\"\"\n",
        "\n",
        "    signal_line_span = 9\n",
        "    \n",
        "    moving_avg = 'EMA'\n",
        "\n",
        "    allUrlData[k].dropna(axis = 0, inplace = True)\n",
        "   \n",
        "    signal_line_col = str(signal_line_span) + '_' + moving_avg\n",
        "    \n",
        "    allUrlData[k][signal_line_col] = allUrlData[k][\"macd\"].ewm(span=signal_line_span, adjust=False).mean()\n",
        "    \n",
        "    MACD_conditions = [((allUrlData[k][\"macd\"]<-2) & (allUrlData[k][signal_line_col]<-2)) , ((allUrlData[k][\"macd\"]>0) & (allUrlData[k][signal_line_col]>0))]\n",
        "\n",
        "    MACD_signals = [\"Buy\", \"Sell\"]\n",
        "\n",
        "    allUrlData[k]['MACD_Signals'] = np.select(MACD_conditions, MACD_signals, default = \"NIL\")    \n",
        "    \n",
        "#    macd.plot(label='MACD', color='g')\n",
        "#    ax = exp3.plot(label='Signal Line', color='r')\n",
        "#    allUrlData[k][\"close\"].plot(ax=ax, secondary_y=True, label=\"AAPL\")\n",
        "    \n",
        "    \"\"\"Plots \"\"\"\n",
        "#    ax.set_ylabel('MACD')\n",
        "#    ax.right_ax.set_ylabel('Price ($)')\n",
        "#    ax.set_xlabel('Date')\n",
        "#    lines = ax.get_lines() + ax.right_ax.get_lines()\n",
        "#    ax.legend(lines, [l.get_label() for l in lines], loc='upper left')\n",
        "    \n",
        "    #plt.savefig(os.path.join(image_file_folder,\"MACD Oscillator.png\"))\n",
        "#    plt.show()\n",
        "\n",
        "    \"\"\" Stochastic Oscillator Calculation \"\"\"\n",
        "    \n",
        "    allUrlData[k]['High'] = allUrlData[k]['High'].rolling(14).max()\n",
        "    allUrlData[k]['Low'] = allUrlData[k]['Low'].rolling(14).min()\n",
        "    allUrlData[k]['%K'] = (allUrlData[k][\"Close\"] - allUrlData[k]['Low'])*100/(allUrlData[k]['High'] - allUrlData[k]['Low'])\n",
        "    allUrlData[k]['%D'] = allUrlData[k]['%K'].rolling(3).mean()\n",
        "\n",
        "    \"\"\" Plots - upper and lower limits are indicated in the below plot \"\"\"\n",
        "#    ax = allUrlData[k][['%K', '%D']].plot()\n",
        "#    allUrlData[k][\"adjclose\"].plot(ax=ax, secondary_y=True)\n",
        "#    ax.axhline(20, linestyle='--', color=\"r\")\n",
        "#    ax.axhline(80, linestyle=\"--\", color=\"r\")\n",
        "    #plt.savefig(os.path.join(image_file_folder,\"Stochastic Oscillator.png\"))\n",
        "#    plt.show()\n",
        "\n",
        "    \"\"\" Buy & Sell Signal for Stochastic \"\"\"\n",
        "\n",
        "    stoch_conditions = [((allUrlData[k]['%K']<20) & (allUrlData[k]['%D']<20)) , ((allUrlData[k]['%K']>80) & (allUrlData[k]['%D']>80))]\n",
        "\n",
        "    stoch_signals = [\"Buy\", \"Sell\"]\n",
        "\n",
        "    allUrlData[k]['Stochastic Signal'] = np.select(stoch_conditions, stoch_signals, default = \"NIL\")\n",
        "\n",
        "\n",
        "    \"\"\" RSI (Relative Strength Index) Calculation \"\"\"\n",
        "    \n",
        "    delta = allUrlData[k][\"Close\"].diff()\n",
        "    up = delta.clip(lower=0)\n",
        "    down = -1*delta.clip(upper=0)\n",
        "    ema_up = up.ewm(com=13, adjust=False).mean()\n",
        "    ema_down = down.ewm(com=13, adjust=False).mean()\n",
        "    rs = ema_up/ema_down\n",
        "    \n",
        "    allUrlData[k]['RSI'] = 100 - (100/(1 + rs))\n",
        "    \n",
        "    \"\"\" Buy & Sell Signal for RSI \"\"\"\n",
        "\n",
        "    RSI_conditions = [(allUrlData[k]['RSI']>50) , (allUrlData[k]['RSI']<50)]\n",
        "\n",
        "    RSI_signals = [\"Buy\", \"Sell\"]\n",
        "\n",
        "    allUrlData[k]['RSI Signal'] = np.select(RSI_conditions, RSI_signals, default = \"NIL\")\n",
        "\n",
        "    \n",
        "    \n",
        "    \"\"\" Plots \"\"\"\n",
        "#    fig, (ax1, ax2) = plt.subplots(2)\n",
        "#    ax1.get_xaxis().set_visible(False)\n",
        "#    fig.suptitle(\"AAPL\")\n",
        "#    \n",
        "#    allUrlData[k][\"close\"].plot(ax=ax1)\n",
        "#    ax1.set_ylabel('Price ($)')\n",
        "#    data['RSI'].plot(ax=ax2)\n",
        "#    ax2.set_ylim(0,100)\n",
        "#    ax2.axhline(30, color='r', linestyle='--')\n",
        "#    ax2.axhline(70, color='r', linestyle='--')\n",
        "#    ax2.set_ylabel(\"AAPL\")\n",
        "\n",
        "\n",
        "#    allUrlData[k]['Position'] = allUrlData[k]['Signal'].diff()\n",
        "    \n",
        "#    allUrlData[k].rename(columns = {\"Signal\": \"Buy/Sell signal\"}, inplace = True)\n",
        "\n",
        "    \n",
        "    \"\"\" Cleaning - Dropping columns \"\"\"\n",
        "\n",
        "    allUrlData[k].drop(\"Close\",inplace = True, axis = 1)\n",
        "    allUrlData[k].drop(\"Open\",inplace = True, axis = 1)\n",
        "    allUrlData[k].drop(\"High\",inplace = True, axis = 1)\n",
        "    allUrlData[k].drop(\"Low\",inplace = True, axis = 1)\n",
        "    allUrlData[k].drop(\"9_EMA\",inplace = True, axis = 1)\n",
        "    \n",
        "    \n",
        "    allUrlData[k] = allUrlData[k].tail(1)\n",
        "\n"
      ],
      "execution_count": null,
      "outputs": []
    },
    {
      "cell_type": "code",
      "metadata": {
        "id": "5kSuz2u6QMp5"
      },
      "source": [
        ""
      ],
      "execution_count": null,
      "outputs": []
    },
    {
      "cell_type": "code",
      "metadata": {
        "id": "9OwYnPPbQMvt"
      },
      "source": [
        "full_clean_data = pd.concat(allUrlData, ignore_index = False) # concat this with other symbols\n",
        "full_clean_data.rename(columns = {\"%K\":\"STOCHASTIC\", \"macd\":\"MACD\", \"Volume\":\"STOCK VOLUME\"}, inplace = True)\n",
        "full_clean_data = full_clean_data.sort_values(\"STOCK VOLUME\", ascending = False)\n",
        "\n",
        "\"\"\" Outputs of Stochastic Oscillator (%K and %D) \"\"\"\n",
        "\n",
        "full_clean_data.rename(columns = {\"STOCHASTIC\": \"%K\"}, inplace = True)\n",
        "k_and_d_data = full_clean_data[[\"%K\", \"%D\"]]\n",
        "k_and_d_data.to_csv(\"Stochastic Indicator (%K and %D) - India.csv\")\n",
        "\n",
        "\n",
        "\"\"\" Saving normal full data \"\"\"\n",
        "full_clean_data.drop(\"%D\",inplace = True, axis = 1)\n",
        "full_clean_data.rename(columns = {\"%K\":\"STOCHASTIC\"}, inplace = True)\n",
        "full_clean_data.to_csv(\"Strategy 2 (India).csv\")\n",
        "\n",
        "\n",
        "\n",
        "\n",
        "\n",
        "\"\"\" To print each of the symbol(s)\"\"\"\n",
        "#print(allUrlData[\"HUBT\"])    \n",
        "    "
      ],
      "execution_count": null,
      "outputs": []
    },
    {
      "cell_type": "code",
      "metadata": {
        "id": "0Dfj5tXpQM05"
      },
      "source": [
        ""
      ],
      "execution_count": null,
      "outputs": []
    },
    {
      "cell_type": "code",
      "metadata": {
        "id": "JPb80gN0QM53"
      },
      "source": [
        ""
      ],
      "execution_count": null,
      "outputs": []
    },
    {
      "cell_type": "code",
      "metadata": {
        "id": "kb5JJPMdPpVR"
      },
      "source": [
        ""
      ],
      "execution_count": null,
      "outputs": []
    }
  ]
}