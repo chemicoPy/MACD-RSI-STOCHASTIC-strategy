{
  "nbformat": 4,
  "nbformat_minor": 0,
  "metadata": {
    "colab": {
      "name": "stock_mkt_web_scraper_(US)",
      "provenance": [],
      "authorship_tag": "ABX9TyPKDnIFjkDgPd1Zb0Zdod0m",
      "include_colab_link": true
    },
    "kernelspec": {
      "name": "python3",
      "display_name": "Python 3"
    },
    "language_info": {
      "name": "python"
    }
  },
  "cells": [
    {
      "cell_type": "markdown",
      "metadata": {
        "id": "view-in-github",
        "colab_type": "text"
      },
      "source": [
        "<a href=\"https://colab.research.google.com/github/chemicoPy/MACD-RSI-STOCHASTIC-strategy/blob/US-(United-States)/stock_mkt_web_scraper_(US).ipynb\" target=\"_parent\"><img src=\"https://colab.research.google.com/assets/colab-badge.svg\" alt=\"Open In Colab\"/></a>"
      ]
    },
    {
      "cell_type": "code",
      "metadata": {
        "id": "PgovykJ_MrPB"
      },
      "source": [
        "from google.colab import drive"
      ],
      "execution_count": 1,
      "outputs": []
    },
    {
      "cell_type": "code",
      "metadata": {
        "id": "_EhuvOpmM_d-"
      },
      "source": [
        "drive.mount(\"/content/gdrive\")"
      ],
      "execution_count": null,
      "outputs": []
    },
    {
      "cell_type": "code",
      "metadata": {
        "id": "3ZmrObdJM_l3"
      },
      "source": [
        "!pip install investpy\n",
        "!pip install requests\n",
        "!pip install tabulate"
      ],
      "execution_count": null,
      "outputs": []
    },
    {
      "cell_type": "code",
      "metadata": {
        "id": "GjP75yRdM_sD"
      },
      "source": [
        "import numpy as np\n",
        "from numpy import *\n",
        "import pandas as pd\n",
        "from pandas import DataFrame, Series\n",
        "import matplotlib.pyplot as plt\n",
        "from tabulate import tabulate\n",
        "import re\n",
        "import requests\n",
        "import os\n",
        "import io\n",
        "import time\n",
        "from datetime import date, timedelta\n",
        "from collections import deque\n",
        "from matplotlib.pyplot import figure\n",
        "import investpy\n",
        "import warnings\n",
        "warnings.filterwarnings('ignore')"
      ],
      "execution_count": 3,
      "outputs": []
    },
    {
      "cell_type": "code",
      "metadata": {
        "id": "-VYJu8x-NkFy"
      },
      "source": [
        "\"\"\" To see US stock list: Just uncomment below line \"\"\"\n",
        "#US_stocks = investpy.stocks.get_stocks_list(country=\"United States\")\n",
        "\n",
        "\n",
        "tickers_list = [\"msft\",\"aapl\",\"tsla\",\"googl\",\"amzn\",\"fb\",\"tsm\",\"baba\",\"nvda\",\"v\",\"jpm\",\"jnj\",\"wmt\",\"unh\",\n",
        "               \"bac\",\"ma\",\"hd\",\"pg\",\"dis\",\"asml\",\"pypl\",\"adbe\",\"cmcsa\",\"nke\", \"lly\", \"AROW\"]\n"
      ],
      "execution_count": 4,
      "outputs": []
    },
    {
      "cell_type": "code",
      "metadata": {
        "id": "fpruKA9bNkRI"
      },
      "source": [
        "from dateutil.relativedelta import relativedelta\n",
        "prev = date.today() - relativedelta(years=2)\n",
        "\n",
        "from datetime import datetime\n",
        "now = datetime.now()\n",
        "move_from_date = now.strftime(\"%d/%m/%Y\")\n",
        "move_to_date = (date.today()- timedelta(days=26)).strftime(\"%d/%m/%Y\")\n",
        "\n",
        "\n"
      ],
      "execution_count": null,
      "outputs": []
    },
    {
      "cell_type": "code",
      "metadata": {
        "id": "UtFH3IMRPRwF",
        "outputId": "deca2a29-2e99-430c-e67e-e63235a9c139",
        "colab": {
          "base_uri": "https://localhost:8080/"
        }
      },
      "source": [
        "print(move_from_date)\n",
        "print(move_to_date)"
      ],
      "execution_count": 16,
      "outputs": [
        {
          "output_type": "stream",
          "name": "stdout",
          "text": [
            "16/10/2021\n",
            "20/09/2021\n"
          ]
        }
      ]
    },
    {
      "cell_type": "code",
      "metadata": {
        "id": "TmeVedntPOjV"
      },
      "source": [
        "\n"
      ],
      "execution_count": null,
      "outputs": []
    },
    {
      "cell_type": "code",
      "metadata": {
        "colab": {
          "base_uri": "https://localhost:8080/",
          "height": 389
        },
        "id": "S-WYZAvDNkWj",
        "outputId": "5725e290-4333-4506-eb0f-7fcd637ae849"
      },
      "source": [
        "allUrlData = {}\n",
        "for ticker in tickers_list:\n",
        "    allUrlData[ticker] = investpy.get_stock_historical_data(ticker,\n",
        "                                        country='United States',\n",
        "                                        from_date=str(move_from_date),\n",
        "                                        to_date=str(move_to_date))\n",
        "\n",
        "#data = pd.concat(allUrlData, ignore_index = False)\n",
        "##print(data)\n",
        "#data.to_csv(\"Yahoo Finance Data.csv\")\n",
        "\n",
        "##data.set_index(\"STOCKS\",inplace = True)\n",
        "\n"
      ],
      "execution_count": 14,
      "outputs": [
        {
          "output_type": "error",
          "ename": "ValueError",
          "evalue": "ignored",
          "traceback": [
            "\u001b[0;31m---------------------------------------------------------------------------\u001b[0m",
            "\u001b[0;31mValueError\u001b[0m                                Traceback (most recent call last)",
            "\u001b[0;32m<ipython-input-14-1b8121d36d8e>\u001b[0m in \u001b[0;36m<module>\u001b[0;34m()\u001b[0m\n\u001b[1;32m      4\u001b[0m                                         \u001b[0mcountry\u001b[0m\u001b[0;34m=\u001b[0m\u001b[0;34m'United States'\u001b[0m\u001b[0;34m,\u001b[0m\u001b[0;34m\u001b[0m\u001b[0;34m\u001b[0m\u001b[0m\n\u001b[1;32m      5\u001b[0m                                         \u001b[0mfrom_date\u001b[0m\u001b[0;34m=\u001b[0m\u001b[0mmove_from_date\u001b[0m\u001b[0;34m,\u001b[0m\u001b[0;34m\u001b[0m\u001b[0;34m\u001b[0m\u001b[0m\n\u001b[0;32m----> 6\u001b[0;31m                                         to_date=move_to_date)\n\u001b[0m\u001b[1;32m      7\u001b[0m \u001b[0;34m\u001b[0m\u001b[0m\n\u001b[1;32m      8\u001b[0m \u001b[0;31m#data = pd.concat(allUrlData, ignore_index = False)\u001b[0m\u001b[0;34m\u001b[0m\u001b[0;34m\u001b[0m\u001b[0;34m\u001b[0m\u001b[0m\n",
            "\u001b[0;32m/usr/local/lib/python3.7/dist-packages/investpy/stocks.py\u001b[0m in \u001b[0;36mget_stock_historical_data\u001b[0;34m(stock, country, from_date, to_date, as_json, order, interval)\u001b[0m\n\u001b[1;32m    462\u001b[0m \u001b[0;34m\u001b[0m\u001b[0m\n\u001b[1;32m    463\u001b[0m     \u001b[0;32mif\u001b[0m \u001b[0mstart_date\u001b[0m \u001b[0;34m>=\u001b[0m \u001b[0mend_date\u001b[0m\u001b[0;34m:\u001b[0m\u001b[0;34m\u001b[0m\u001b[0;34m\u001b[0m\u001b[0m\n\u001b[0;32m--> 464\u001b[0;31m         \u001b[0;32mraise\u001b[0m \u001b[0mValueError\u001b[0m\u001b[0;34m(\u001b[0m\u001b[0;34m\"ERR#0032: to_date should be greater than from_date, both formatted as 'dd/mm/yyyy'.\"\u001b[0m\u001b[0;34m)\u001b[0m\u001b[0;34m\u001b[0m\u001b[0;34m\u001b[0m\u001b[0m\n\u001b[0m\u001b[1;32m    465\u001b[0m \u001b[0;34m\u001b[0m\u001b[0m\n\u001b[1;32m    466\u001b[0m     date_interval = {\n",
            "\u001b[0;31mValueError\u001b[0m: ERR#0032: to_date should be greater than from_date, both formatted as 'dd/mm/yyyy'."
          ]
        }
      ]
    },
    {
      "cell_type": "code",
      "metadata": {
        "id": "Drfh2EpmNkc-"
      },
      "source": [
        "for  k,v in allUrlData.items():\n",
        "    allUrlData[k] = v.tail(26)\n",
        "    \n",
        "    \"\"\" MACD Calculation \"\"\"\n",
        "    \n",
        "    exp1 = allUrlData[k][\"Close\"].ewm(span=12, adjust=False).mean()\n",
        "    exp2 = allUrlData[k][\"Close\"].ewm(span=26, adjust=False).mean()\n",
        "    allUrlData[k][\"macd\"] = exp1 - exp2\n",
        "\n",
        "    \"\"\" MACD Buy & Sell signal: \"\"\"\n",
        "\n",
        "    signal_line_span = 9\n",
        "    \n",
        "    moving_avg = 'EMA'\n",
        "\n",
        "    allUrlData[k].dropna(axis = 0, inplace = True)\n",
        "   \n",
        "    signal_line_col = str(signal_line_span) + '_' + moving_avg\n",
        "    \n",
        "    allUrlData[k][signal_line_col] = allUrlData[k][\"macd\"].ewm(span=signal_line_span, adjust=False).mean()\n",
        "    \n",
        "    MACD_conditions = [((allUrlData[k][\"macd\"]<-2) & (allUrlData[k][signal_line_col]<-2)) , ((allUrlData[k][\"macd\"]>0) & (allUrlData[k][signal_line_col]>0))]\n",
        "\n",
        "    MACD_signals = [\"Buy\", \"Sell\"]\n",
        "\n",
        "    allUrlData[k]['MACD_Signals'] = np.select(MACD_conditions, MACD_signals, default = \"NIL\")    \n",
        "    \n",
        "#    macd.plot(label='MACD', color='g')\n",
        "#    ax = exp3.plot(label='Signal Line', color='r')\n",
        "#    allUrlData[k][\"close\"].plot(ax=ax, secondary_y=True, label=\"AAPL\")\n",
        "    \n",
        "    \"\"\"Plots \"\"\"\n",
        "#    ax.set_ylabel('MACD')\n",
        "#    ax.right_ax.set_ylabel('Price ($)')\n",
        "#    ax.set_xlabel('Date')\n",
        "#    lines = ax.get_lines() + ax.right_ax.get_lines()\n",
        "#    ax.legend(lines, [l.get_label() for l in lines], loc='upper left')\n",
        "    \n",
        "    #plt.savefig(os.path.join(image_file_folder,\"MACD Oscillator.png\"))\n",
        "#    plt.show()\n",
        "\n",
        "    \"\"\" Stochastic Oscillator Calculation \"\"\"\n",
        "    \n",
        "    allUrlData[k]['High'] = allUrlData[k]['High'].rolling(14).max()\n",
        "    allUrlData[k]['Low'] = allUrlData[k]['Low'].rolling(14).min()\n",
        "    allUrlData[k]['%K'] = (allUrlData[k][\"Close\"] - allUrlData[k]['Low'])*100/(allUrlData[k]['High'] - allUrlData[k]['Low'])\n",
        "    allUrlData[k]['%D'] = allUrlData[k]['%K'].rolling(3).mean()\n",
        "\n",
        "    \"\"\" Plots - upper and lower limits are indicated in the below plot \"\"\"\n",
        "#    ax = allUrlData[k][['%K', '%D']].plot()\n",
        "#    allUrlData[k][\"adjclose\"].plot(ax=ax, secondary_y=True)\n",
        "#    ax.axhline(20, linestyle='--', color=\"r\")\n",
        "#    ax.axhline(80, linestyle=\"--\", color=\"r\")\n",
        "    #plt.savefig(os.path.join(image_file_folder,\"Stochastic Oscillator.png\"))\n",
        "#    plt.show()\n",
        "\n",
        "    \"\"\" Buy & Sell Signal for Stochastic \"\"\"\n",
        "\n",
        "    stoch_conditions = [((allUrlData[k]['%K']<20) & (allUrlData[k]['%D']<20)) , ((allUrlData[k]['%K']>80) & (allUrlData[k]['%D']>80))]\n",
        "\n",
        "    stoch_signals = [\"Buy\", \"Sell\"]\n",
        "\n",
        "    allUrlData[k]['Stochastic Signal'] = np.select(stoch_conditions, stoch_signals, default = \"NIL\")\n",
        "\n",
        "\n",
        "    \"\"\" RSI (Relative Strength Index) Calculation \"\"\"\n",
        "    \n",
        "    delta = allUrlData[k][\"Close\"].diff()\n",
        "    up = delta.clip(lower=0)\n",
        "    down = -1*delta.clip(upper=0)\n",
        "    ema_up = up.ewm(com=13, adjust=False).mean()\n",
        "    ema_down = down.ewm(com=13, adjust=False).mean()\n",
        "    rs = ema_up/ema_down\n",
        "    \n",
        "    allUrlData[k]['RSI'] = 100 - (100/(1 + rs))\n",
        "    \n",
        "    \"\"\" Buy & Sell Signal for RSI \"\"\"\n",
        "\n",
        "    RSI_conditions = [(allUrlData[k]['RSI']>50) , (allUrlData[k]['RSI']<50)]\n",
        "\n",
        "    RSI_signals = [\"Buy\", \"Sell\"]\n",
        "\n",
        "    allUrlData[k]['RSI Signal'] = np.select(RSI_conditions, RSI_signals, default = \"NIL\")\n",
        "\n",
        "    \n",
        "    \n",
        "    \"\"\" Plots \"\"\"\n",
        "#    fig, (ax1, ax2) = plt.subplots(2)\n",
        "#    ax1.get_xaxis().set_visible(False)\n",
        "#    fig.suptitle(\"AAPL\")\n",
        "#    \n",
        "#    allUrlData[k][\"close\"].plot(ax=ax1)\n",
        "#    ax1.set_ylabel('Price ($)')\n",
        "#    data['RSI'].plot(ax=ax2)\n",
        "#    ax2.set_ylim(0,100)\n",
        "#    ax2.axhline(30, color='r', linestyle='--')\n",
        "#    ax2.axhline(70, color='r', linestyle='--')\n",
        "#    ax2.set_ylabel(\"AAPL\")\n",
        "\n",
        "\n",
        "#    allUrlData[k]['Position'] = allUrlData[k]['Signal'].diff()\n",
        "    \n",
        "#    allUrlData[k].rename(columns = {\"Signal\": \"Buy/Sell signal\"}, inplace = True)\n",
        "    \n",
        "    \"\"\" Cleaning - Dropping columns  \"\"\"\n",
        "\n",
        "    \n",
        "    allUrlData[k].drop(\"Open\",inplace = True, axis = 1)\n",
        "    allUrlData[k].drop(\"High\",inplace = True, axis = 1)\n",
        "    allUrlData[k].drop(\"Low\",inplace = True, axis = 1)\n",
        "    allUrlData[k].drop(\"Close\",inplace = True, axis = 1)\n",
        "#    allUrlData[k].drop(\"adjclose\",inplace = True, axis = 1)\n",
        "#    allUrlData[k].drop(\"%D\",inplace = True, axis = 1)\n",
        "    allUrlData[k].drop(\"9_EMA\",inplace = True, axis = 1)\n",
        "\n",
        "#    allUrlData[k].set_index(\"ticker\", inplace = True)\n",
        "    \n",
        "    allUrlData[k] = allUrlData[k].tail(1)\n",
        "    \n",
        "    \n",
        "  \n"
      ],
      "execution_count": null,
      "outputs": []
    },
    {
      "cell_type": "code",
      "metadata": {
        "id": "ktFcZgDNNkjF"
      },
      "source": [
        ""
      ],
      "execution_count": null,
      "outputs": []
    },
    {
      "cell_type": "code",
      "metadata": {
        "id": "gs7IXryRNkom"
      },
      "source": [
        ""
      ],
      "execution_count": null,
      "outputs": []
    },
    {
      "cell_type": "code",
      "metadata": {
        "id": "T3mdSwFhM_xM"
      },
      "source": [
        ""
      ],
      "execution_count": null,
      "outputs": []
    },
    {
      "cell_type": "code",
      "metadata": {
        "id": "RktuZieBM_2Z"
      },
      "source": [
        ""
      ],
      "execution_count": null,
      "outputs": []
    },
    {
      "cell_type": "code",
      "metadata": {
        "id": "eIqni59SM_7u"
      },
      "source": [
        ""
      ],
      "execution_count": null,
      "outputs": []
    }
  ]
}